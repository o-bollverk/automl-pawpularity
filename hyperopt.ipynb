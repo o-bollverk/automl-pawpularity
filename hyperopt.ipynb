{
 "cells": [
  {
   "cell_type": "markdown",
   "metadata": {},
   "source": [
    "# HYPEROPT"
   ]
  },
  {
   "cell_type": "markdown",
   "metadata": {},
   "source": [
    "## First set of experiments "
   ]
  },
  {
   "cell_type": "code",
   "execution_count": 3,
   "metadata": {
    "pycharm": {
     "name": "#%%\n"
    }
   },
   "outputs": [
    {
     "name": "stdout",
     "output_type": "stream",
     "text": [
      "Downloading petfinder-pawpularity-score.zip to /Users/arnel/Library/Mobile Documents/com~apple~CloudDocs/Documents/uni/2021sygis/autoML/project/automl-pawpularity\r\n",
      "100%|████████████████████████████████████████| 983M/983M [02:56<00:00, 11.6MB/s]\r\n",
      "100%|████████████████████████████████████████| 983M/983M [02:56<00:00, 5.84MB/s]\r\n"
     ]
    }
   ],
   "source": [
    "# make sure kaggle 1.5.12 is installed and api key is configured (~/.kaggle/kaggle.json), if not then:\n",
    "# !pip install --upgrade --force-reinstall --no-deps kaggle\n",
    "\n",
    "# later:\n",
    "# !kaggle competitions download -c petfinder-pawpularity-score\n",
    "# !unzip -q petfinder-pawpularity-score.zip -d input"
   ]
  },
  {
   "cell_type": "code",
   "execution_count": 69,
   "metadata": {},
   "outputs": [],
   "source": [
    "from sklearn import linear_model, ensemble, svm, neighbors, gaussian_process, cross_decomposition, tree, neural_network, model_selection, metrics\n",
    "from hyperopt import hp, fmin, tpe, STATUS_OK, space_eval, Trials\n",
    "from hpsklearn import HyperoptEstimator, svc\n",
    "from scipy.stats import ttest_ind, ttest_ind_from_stats\n",
    "from sklearn import svm\n",
    "import seaborn as sns\n",
    "import pickle as plk\n",
    "import math\n",
    "import pandas as pd\n",
    "import matplotlib.pyplot as plt\n",
    "import random\n",
    "import numpy as np\n",
    "\n",
    "\n",
    "import warnings\n",
    "warnings.filterwarnings('ignore')"
   ]
  },
  {
   "cell_type": "code",
   "execution_count": 3,
   "metadata": {},
   "outputs": [
    {
     "data": {
      "text/html": [
       "<div>\n",
       "<style scoped>\n",
       "    .dataframe tbody tr th:only-of-type {\n",
       "        vertical-align: middle;\n",
       "    }\n",
       "\n",
       "    .dataframe tbody tr th {\n",
       "        vertical-align: top;\n",
       "    }\n",
       "\n",
       "    .dataframe thead th {\n",
       "        text-align: right;\n",
       "    }\n",
       "</style>\n",
       "<table border=\"1\" class=\"dataframe\">\n",
       "  <thead>\n",
       "    <tr style=\"text-align: right;\">\n",
       "      <th></th>\n",
       "      <th>Id</th>\n",
       "      <th>Subject Focus</th>\n",
       "      <th>Eyes</th>\n",
       "      <th>Face</th>\n",
       "      <th>Near</th>\n",
       "      <th>Action</th>\n",
       "      <th>Accessory</th>\n",
       "      <th>Group</th>\n",
       "      <th>Collage</th>\n",
       "      <th>Human</th>\n",
       "      <th>...</th>\n",
       "      <th>lime</th>\n",
       "      <th>dark_green</th>\n",
       "      <th>cyan</th>\n",
       "      <th>teal</th>\n",
       "      <th>blue</th>\n",
       "      <th>violet</th>\n",
       "      <th>purple</th>\n",
       "      <th>dark_red</th>\n",
       "      <th>red</th>\n",
       "      <th>Pawpularity</th>\n",
       "    </tr>\n",
       "  </thead>\n",
       "  <tbody>\n",
       "    <tr>\n",
       "      <th>0</th>\n",
       "      <td>0007de18844b0dbbb5e1f607da0606e0</td>\n",
       "      <td>0</td>\n",
       "      <td>1</td>\n",
       "      <td>1</td>\n",
       "      <td>1</td>\n",
       "      <td>0</td>\n",
       "      <td>0</td>\n",
       "      <td>1</td>\n",
       "      <td>0</td>\n",
       "      <td>0</td>\n",
       "      <td>...</td>\n",
       "      <td>0.0</td>\n",
       "      <td>0.000090</td>\n",
       "      <td>0.000000</td>\n",
       "      <td>0.000603</td>\n",
       "      <td>0.000000</td>\n",
       "      <td>0.000028</td>\n",
       "      <td>0.0</td>\n",
       "      <td>0.001269</td>\n",
       "      <td>0.000007</td>\n",
       "      <td>63</td>\n",
       "    </tr>\n",
       "    <tr>\n",
       "      <th>1</th>\n",
       "      <td>0009c66b9439883ba2750fb825e1d7db</td>\n",
       "      <td>0</td>\n",
       "      <td>1</td>\n",
       "      <td>1</td>\n",
       "      <td>0</td>\n",
       "      <td>0</td>\n",
       "      <td>0</td>\n",
       "      <td>0</td>\n",
       "      <td>0</td>\n",
       "      <td>0</td>\n",
       "      <td>...</td>\n",
       "      <td>0.0</td>\n",
       "      <td>0.000000</td>\n",
       "      <td>0.000000</td>\n",
       "      <td>0.000033</td>\n",
       "      <td>0.000000</td>\n",
       "      <td>0.001019</td>\n",
       "      <td>0.0</td>\n",
       "      <td>0.010453</td>\n",
       "      <td>0.000000</td>\n",
       "      <td>42</td>\n",
       "    </tr>\n",
       "    <tr>\n",
       "      <th>2</th>\n",
       "      <td>0013fd999caf9a3efe1352ca1b0d937e</td>\n",
       "      <td>0</td>\n",
       "      <td>1</td>\n",
       "      <td>1</td>\n",
       "      <td>1</td>\n",
       "      <td>0</td>\n",
       "      <td>0</td>\n",
       "      <td>0</td>\n",
       "      <td>0</td>\n",
       "      <td>1</td>\n",
       "      <td>...</td>\n",
       "      <td>0.0</td>\n",
       "      <td>0.059440</td>\n",
       "      <td>0.004287</td>\n",
       "      <td>0.413299</td>\n",
       "      <td>0.082291</td>\n",
       "      <td>0.008185</td>\n",
       "      <td>0.0</td>\n",
       "      <td>0.000190</td>\n",
       "      <td>0.000000</td>\n",
       "      <td>28</td>\n",
       "    </tr>\n",
       "    <tr>\n",
       "      <th>3</th>\n",
       "      <td>0018df346ac9c1d8413cfcc888ca8246</td>\n",
       "      <td>0</td>\n",
       "      <td>1</td>\n",
       "      <td>1</td>\n",
       "      <td>1</td>\n",
       "      <td>0</td>\n",
       "      <td>0</td>\n",
       "      <td>0</td>\n",
       "      <td>0</td>\n",
       "      <td>0</td>\n",
       "      <td>...</td>\n",
       "      <td>0.0</td>\n",
       "      <td>0.000000</td>\n",
       "      <td>0.000000</td>\n",
       "      <td>0.000006</td>\n",
       "      <td>0.000000</td>\n",
       "      <td>0.000135</td>\n",
       "      <td>0.0</td>\n",
       "      <td>0.000247</td>\n",
       "      <td>0.000000</td>\n",
       "      <td>15</td>\n",
       "    </tr>\n",
       "    <tr>\n",
       "      <th>4</th>\n",
       "      <td>001dc955e10590d3ca4673f034feeef2</td>\n",
       "      <td>0</td>\n",
       "      <td>0</td>\n",
       "      <td>0</td>\n",
       "      <td>1</td>\n",
       "      <td>0</td>\n",
       "      <td>0</td>\n",
       "      <td>1</td>\n",
       "      <td>0</td>\n",
       "      <td>0</td>\n",
       "      <td>...</td>\n",
       "      <td>0.0</td>\n",
       "      <td>0.000033</td>\n",
       "      <td>0.000000</td>\n",
       "      <td>0.001532</td>\n",
       "      <td>0.000000</td>\n",
       "      <td>0.000938</td>\n",
       "      <td>0.0</td>\n",
       "      <td>0.000451</td>\n",
       "      <td>0.000003</td>\n",
       "      <td>72</td>\n",
       "    </tr>\n",
       "    <tr>\n",
       "      <th>...</th>\n",
       "      <td>...</td>\n",
       "      <td>...</td>\n",
       "      <td>...</td>\n",
       "      <td>...</td>\n",
       "      <td>...</td>\n",
       "      <td>...</td>\n",
       "      <td>...</td>\n",
       "      <td>...</td>\n",
       "      <td>...</td>\n",
       "      <td>...</td>\n",
       "      <td>...</td>\n",
       "      <td>...</td>\n",
       "      <td>...</td>\n",
       "      <td>...</td>\n",
       "      <td>...</td>\n",
       "      <td>...</td>\n",
       "      <td>...</td>\n",
       "      <td>...</td>\n",
       "      <td>...</td>\n",
       "      <td>...</td>\n",
       "      <td>...</td>\n",
       "    </tr>\n",
       "    <tr>\n",
       "      <th>9907</th>\n",
       "      <td>ffbfa0383c34dc513c95560d6e1fdb57</td>\n",
       "      <td>0</td>\n",
       "      <td>0</td>\n",
       "      <td>0</td>\n",
       "      <td>1</td>\n",
       "      <td>0</td>\n",
       "      <td>0</td>\n",
       "      <td>0</td>\n",
       "      <td>0</td>\n",
       "      <td>0</td>\n",
       "      <td>...</td>\n",
       "      <td>0.0</td>\n",
       "      <td>0.000316</td>\n",
       "      <td>0.000000</td>\n",
       "      <td>0.000288</td>\n",
       "      <td>0.000000</td>\n",
       "      <td>0.000003</td>\n",
       "      <td>0.0</td>\n",
       "      <td>0.000218</td>\n",
       "      <td>0.000000</td>\n",
       "      <td>15</td>\n",
       "    </tr>\n",
       "    <tr>\n",
       "      <th>9908</th>\n",
       "      <td>ffcc8532d76436fc79e50eb2e5238e45</td>\n",
       "      <td>0</td>\n",
       "      <td>1</td>\n",
       "      <td>1</td>\n",
       "      <td>1</td>\n",
       "      <td>0</td>\n",
       "      <td>0</td>\n",
       "      <td>0</td>\n",
       "      <td>0</td>\n",
       "      <td>0</td>\n",
       "      <td>...</td>\n",
       "      <td>0.0</td>\n",
       "      <td>0.000000</td>\n",
       "      <td>0.000000</td>\n",
       "      <td>0.000000</td>\n",
       "      <td>0.000000</td>\n",
       "      <td>0.000027</td>\n",
       "      <td>0.0</td>\n",
       "      <td>0.000588</td>\n",
       "      <td>0.000712</td>\n",
       "      <td>70</td>\n",
       "    </tr>\n",
       "    <tr>\n",
       "      <th>9909</th>\n",
       "      <td>ffdf2e8673a1da6fb80342fa3b119a20</td>\n",
       "      <td>0</td>\n",
       "      <td>1</td>\n",
       "      <td>1</td>\n",
       "      <td>1</td>\n",
       "      <td>0</td>\n",
       "      <td>0</td>\n",
       "      <td>0</td>\n",
       "      <td>0</td>\n",
       "      <td>1</td>\n",
       "      <td>...</td>\n",
       "      <td>0.0</td>\n",
       "      <td>0.000000</td>\n",
       "      <td>0.000000</td>\n",
       "      <td>0.000000</td>\n",
       "      <td>0.000000</td>\n",
       "      <td>0.000000</td>\n",
       "      <td>0.0</td>\n",
       "      <td>0.002439</td>\n",
       "      <td>0.001207</td>\n",
       "      <td>20</td>\n",
       "    </tr>\n",
       "    <tr>\n",
       "      <th>9910</th>\n",
       "      <td>fff19e2ce11718548fa1c5d039a5192a</td>\n",
       "      <td>0</td>\n",
       "      <td>1</td>\n",
       "      <td>1</td>\n",
       "      <td>1</td>\n",
       "      <td>0</td>\n",
       "      <td>0</td>\n",
       "      <td>0</td>\n",
       "      <td>0</td>\n",
       "      <td>1</td>\n",
       "      <td>...</td>\n",
       "      <td>0.0</td>\n",
       "      <td>0.000075</td>\n",
       "      <td>0.000000</td>\n",
       "      <td>0.000081</td>\n",
       "      <td>0.000000</td>\n",
       "      <td>0.000111</td>\n",
       "      <td>0.0</td>\n",
       "      <td>0.048433</td>\n",
       "      <td>0.121717</td>\n",
       "      <td>20</td>\n",
       "    </tr>\n",
       "    <tr>\n",
       "      <th>9911</th>\n",
       "      <td>fff8e47c766799c9e12f3cb3d66ad228</td>\n",
       "      <td>0</td>\n",
       "      <td>1</td>\n",
       "      <td>1</td>\n",
       "      <td>1</td>\n",
       "      <td>0</td>\n",
       "      <td>0</td>\n",
       "      <td>0</td>\n",
       "      <td>0</td>\n",
       "      <td>0</td>\n",
       "      <td>...</td>\n",
       "      <td>0.0</td>\n",
       "      <td>0.000000</td>\n",
       "      <td>0.000000</td>\n",
       "      <td>0.001047</td>\n",
       "      <td>0.000074</td>\n",
       "      <td>0.000008</td>\n",
       "      <td>0.0</td>\n",
       "      <td>0.000018</td>\n",
       "      <td>0.000928</td>\n",
       "      <td>30</td>\n",
       "    </tr>\n",
       "  </tbody>\n",
       "</table>\n",
       "<p>9912 rows × 39 columns</p>\n",
       "</div>"
      ],
      "text/plain": [
       "                                    Id  Subject Focus  Eyes  Face  Near  \\\n",
       "0     0007de18844b0dbbb5e1f607da0606e0              0     1     1     1   \n",
       "1     0009c66b9439883ba2750fb825e1d7db              0     1     1     0   \n",
       "2     0013fd999caf9a3efe1352ca1b0d937e              0     1     1     1   \n",
       "3     0018df346ac9c1d8413cfcc888ca8246              0     1     1     1   \n",
       "4     001dc955e10590d3ca4673f034feeef2              0     0     0     1   \n",
       "...                                ...            ...   ...   ...   ...   \n",
       "9907  ffbfa0383c34dc513c95560d6e1fdb57              0     0     0     1   \n",
       "9908  ffcc8532d76436fc79e50eb2e5238e45              0     1     1     1   \n",
       "9909  ffdf2e8673a1da6fb80342fa3b119a20              0     1     1     1   \n",
       "9910  fff19e2ce11718548fa1c5d039a5192a              0     1     1     1   \n",
       "9911  fff8e47c766799c9e12f3cb3d66ad228              0     1     1     1   \n",
       "\n",
       "      Action  Accessory  Group  Collage  Human  ...  lime  dark_green  \\\n",
       "0          0          0      1        0      0  ...   0.0    0.000090   \n",
       "1          0          0      0        0      0  ...   0.0    0.000000   \n",
       "2          0          0      0        0      1  ...   0.0    0.059440   \n",
       "3          0          0      0        0      0  ...   0.0    0.000000   \n",
       "4          0          0      1        0      0  ...   0.0    0.000033   \n",
       "...      ...        ...    ...      ...    ...  ...   ...         ...   \n",
       "9907       0          0      0        0      0  ...   0.0    0.000316   \n",
       "9908       0          0      0        0      0  ...   0.0    0.000000   \n",
       "9909       0          0      0        0      1  ...   0.0    0.000000   \n",
       "9910       0          0      0        0      1  ...   0.0    0.000075   \n",
       "9911       0          0      0        0      0  ...   0.0    0.000000   \n",
       "\n",
       "          cyan      teal      blue    violet  purple  dark_red       red  \\\n",
       "0     0.000000  0.000603  0.000000  0.000028     0.0  0.001269  0.000007   \n",
       "1     0.000000  0.000033  0.000000  0.001019     0.0  0.010453  0.000000   \n",
       "2     0.004287  0.413299  0.082291  0.008185     0.0  0.000190  0.000000   \n",
       "3     0.000000  0.000006  0.000000  0.000135     0.0  0.000247  0.000000   \n",
       "4     0.000000  0.001532  0.000000  0.000938     0.0  0.000451  0.000003   \n",
       "...        ...       ...       ...       ...     ...       ...       ...   \n",
       "9907  0.000000  0.000288  0.000000  0.000003     0.0  0.000218  0.000000   \n",
       "9908  0.000000  0.000000  0.000000  0.000027     0.0  0.000588  0.000712   \n",
       "9909  0.000000  0.000000  0.000000  0.000000     0.0  0.002439  0.001207   \n",
       "9910  0.000000  0.000081  0.000000  0.000111     0.0  0.048433  0.121717   \n",
       "9911  0.000000  0.001047  0.000074  0.000008     0.0  0.000018  0.000928   \n",
       "\n",
       "      Pawpularity  \n",
       "0              63  \n",
       "1              42  \n",
       "2              28  \n",
       "3              15  \n",
       "4              72  \n",
       "...           ...  \n",
       "9907           15  \n",
       "9908           70  \n",
       "9909           20  \n",
       "9910           20  \n",
       "9911           30  \n",
       "\n",
       "[9912 rows x 39 columns]"
      ]
     },
     "execution_count": 3,
     "metadata": {},
     "output_type": "execute_result"
    }
   ],
   "source": [
    "# Load data:\n",
    "\n",
    "data_dir = \"input\" #if using the code above\n",
    "#data_dir = \"~/Downloads/petfinder-pawpularity-score\" #comment it out if using the code above\n",
    "df2 = pd.read_csv(f\"{data_dir}/train2.csv\")\n",
    "df2"
   ]
  },
  {
   "cell_type": "code",
   "execution_count": 4,
   "metadata": {},
   "outputs": [],
   "source": [
    "# normalise column values to 0...1\n",
    "columns_to_normalise = [\"hue\", 'saturation', 'brightness', 'contrast', 'contrast2', 'blur', 'warmth',\n",
    "                        'aspect_ratio', 'dpi', 'white', 'light_grey', 'grey', 'black', 'brown',\n",
    "                        'orange', 'green', 'lime', 'dark_green', 'cyan', 'teal', 'blue',\n",
    "                        'violet', 'purple', 'dark_red', 'red']\n",
    "\n",
    "for col in columns_to_normalise:\n",
    "    df2[col] = df2[col] / df2[col].max()"
   ]
  },
  {
   "cell_type": "code",
   "execution_count": 5,
   "metadata": {},
   "outputs": [],
   "source": [
    "# Features and labels:\n",
    "y = df2['Pawpularity']\n",
    "X = df2.drop(columns = ['Pawpularity', 'Id'])  "
   ]
  },
  {
   "cell_type": "markdown",
   "metadata": {
    "pycharm": {
     "name": "#%%\n"
    }
   },
   "source": [
    "**Feature selection functions:**"
   ]
  },
  {
   "cell_type": "code",
   "execution_count": 6,
   "metadata": {
    "pycharm": {
     "name": "#%%\n"
    }
   },
   "outputs": [],
   "source": [
    "def drop_features_by_index(X, drops):\n",
    "    # remove duplicates\n",
    "    drops = list(dict.fromkeys(drops))\n",
    "\n",
    "    # go from right to left\n",
    "    drops.sort(reverse=True)\n",
    "    for f in drops:\n",
    "        X = X.drop(X.columns[f], axis=1)\n",
    "\n",
    "    return X\n",
    "\n",
    "\n",
    "def get_feature_indices(args):\n",
    "    indices = [v for k,v in args.items() if k.startswith(\"drop_feature_\")]\n",
    "    #remove duplicates\n",
    "    return list(dict.fromkeys(indices))"
   ]
  },
  {
   "cell_type": "markdown",
   "metadata": {},
   "source": [
    "**Objective function:**"
   ]
  },
  {
   "cell_type": "code",
   "execution_count": 7,
   "metadata": {},
   "outputs": [],
   "source": [
    "def objective(args):\n",
    "\n",
    "    global df2\n",
    "\n",
    "    X = df2.drop([\"Pawpularity\",\"Id\"], axis=1)\n",
    "    y = df2[\"Pawpularity\"]\n",
    "\n",
    "    # calc features to drop\n",
    "    drops = get_feature_indices(args)\n",
    "    X = drop_features_by_index(X, drops)\n",
    "\n",
    "    model_def = args[\"model\"]\n",
    "\n",
    "    if args[\"model\"][\"type\"] == \"BayesianRidge\":\n",
    "        model = linear_model.BayesianRidge(\n",
    "            n_iter = model_def[\"n_iter\"],\n",
    "            alpha_1 = model_def[\"alpha_1\"],\n",
    "            alpha_2 = model_def[\"alpha_2\"],\n",
    "            lambda_1 = model_def[\"lambda_1\"],\n",
    "            lambda_2 = model_def[\"lambda_1\"],\n",
    "        )\n",
    "\n",
    "    if args[\"model\"][\"type\"] == \"ElasticNet\":\n",
    "        model = linear_model.ElasticNet(\n",
    "            alpha=model_def[\"alpha\"],\n",
    "            l1_ratio=model_def[\"l1_ratio\"]\n",
    "        )\n",
    "\n",
    "    if args[\"model\"][\"type\"] == \"SGDRegressor\":\n",
    "        model = linear_model.SGDRegressor(\n",
    "            alpha=model_def[\"alpha\"],\n",
    "            l1_ratio=model_def[\"l1_ratio\"]\n",
    "        )\n",
    "\n",
    "    if args[\"model\"][\"type\"] == \"MLPRegressor\":\n",
    "        model = neural_network.MLPRegressor(\n",
    "            hidden_layer_sizes=(model_def[\"hidden_layer_sizes\"],),\n",
    "            alpha=model_def[\"alpha\"],\n",
    "            solver=model_def[\"solver\"]\n",
    "        )\n",
    "\n",
    "    scores = model_selection.cross_val_score(model, X, y, scoring=\"neg_root_mean_squared_error\") * -1\n",
    "    return np.mean(scores)"
   ]
  },
  {
   "cell_type": "markdown",
   "metadata": {},
   "source": [
    "### **Three experiments with different feature spaces, using feature selection:**\n",
    "\n",
    "**First experiment:**"
   ]
  },
  {
   "cell_type": "code",
   "execution_count": 232,
   "metadata": {
    "pycharm": {
     "name": "#%%\n"
    }
   },
   "outputs": [
    {
     "name": "stdout",
     "output_type": "stream",
     "text": [
      "100%|██████████| 10000/10000 [1:58:26<00:00,  1.41trial/s, best loss: 20.54404889010004]\n"
     ]
    },
    {
     "data": {
      "text/plain": [
       "{'drop_feature_0': 3,\n",
       " 'drop_feature_1': 7,\n",
       " 'drop_feature_2': 19,\n",
       " 'model': {'alpha_1': 5.0042757161530806e-05,\n",
       "  'alpha_2': 2.2305134933294197e-05,\n",
       "  'lambda_1': 5.8501650382826934e-05,\n",
       "  'lambda_2': 5.954285663965207e-05,\n",
       "  'n_iter': 319,\n",
       "  'type': 'BayesianRidge'}}"
      ]
     },
     "execution_count": 232,
     "metadata": {},
     "output_type": "execute_result"
    }
   ],
   "source": [
    "space = {\n",
    "    \"model\": hp.choice(\"model\", [\n",
    "        {\n",
    "            \"type\": \"BayesianRidge\",\n",
    "            \"n_iter\": hp.uniformint(\"bayes_n_iter\", 200, 500),\n",
    "            \"alpha_1\": hp.uniform(\"bayes_alpha_1\", 1e-8, 1e-4),\n",
    "            \"alpha_2\": hp.uniform(\"bayes_alpha_2\", 1e-8, 1e-4),\n",
    "            \"lambda_1\": hp.uniform(\"bayes_lambda_1\", 1e-8, 1e-4),\n",
    "            \"lambda_2\": hp.uniform(\"bayes_lambda_2\", 1e-8, 1e-4),\n",
    "        },\n",
    "        {\n",
    "            \"type\": \"ElasticNet\",\n",
    "            \"alpha\": hp.uniform(\"elastic_alpha\", 0.5, 2),\n",
    "            \"l1_ratio\": hp.uniform(\"elastic_l1\", 0, 1)\n",
    "        },\n",
    "        {\n",
    "            \"type\": \"SGDRegressor\",\n",
    "            \"alpha\": hp.uniform(\"sgd_alpha\", 0.00001, 0.001),\n",
    "            \"l1_ratio\": hp.uniform(\"sgd_l1\", 0, 1)\n",
    "        },\n",
    "        # {\n",
    "        #     \"type\": \"MLPRegressor\",\n",
    "        #     \"hidden_layer_sizes\": hp.choice(\"mlp_layers_size\", [100, 200, 300]),\n",
    "        #     'alpha':hp.lognormal('mlp_alpha', mu=np.log(1e-4), sigma=1),\n",
    "        #     'solver':hp.choice('mlp_solver', ['lbfgs', 'sgd', 'adam'])\n",
    "        # }\n",
    "    ]),\n",
    "    \"drop_feature_0\": hp.uniformint(\"drop_feature_0\", 0, X.shape[1]-1),\n",
    "    \"drop_feature_1\": hp.uniformint(\"drop_feature_1\", 0, X.shape[1]-1),\n",
    "    \"drop_feature_2\": hp.uniformint(\"drop_feature_2\", 0, X.shape[1]-1),\n",
    "}\n",
    "\n",
    "best = fmin(objective, space, algo = tpe.suggest, max_evals=10000)\n",
    "#hyperopt.pyll.stochastic.sample(space)\n",
    "\n",
    "(space_eval(space, best))\n"
   ]
  },
  {
   "cell_type": "markdown",
   "metadata": {},
   "source": [
    "**Second experiment:**"
   ]
  },
  {
   "cell_type": "code",
   "execution_count": 233,
   "metadata": {
    "pycharm": {
     "name": "#%%\n"
    }
   },
   "outputs": [
    {
     "name": "stdout",
     "output_type": "stream",
     "text": [
      "100%|██████████| 10000/10000 [5:07:27<00:00,  1.84s/trial, best loss: 20.544048831904863]  \n"
     ]
    },
    {
     "data": {
      "text/plain": [
       "{'drop_feature_0': 3,\n",
       " 'drop_feature_1': 19,\n",
       " 'drop_feature_2': 7,\n",
       " 'model': {'alpha_1': 9.975485827537099e-05,\n",
       "  'alpha_2': 4.280861256930258e-05,\n",
       "  'lambda_1': 1.0962300332032549e-07,\n",
       "  'lambda_2': 1.0676469280073962e-05,\n",
       "  'n_iter': 282,\n",
       "  'type': 'BayesianRidge'}}"
      ]
     },
     "execution_count": 233,
     "metadata": {},
     "output_type": "execute_result"
    }
   ],
   "source": [
    "space2 = {\n",
    "    \"model\": hp.choice(\"model\", [\n",
    "        {\n",
    "            \"type\": \"BayesianRidge\",\n",
    "            \"n_iter\": hp.uniformint(\"bayes_n_iter\", 200, 500),\n",
    "            \"alpha_1\": hp.uniform(\"bayes_alpha_1\", 1e-8, 1e-4),\n",
    "            \"alpha_2\": hp.uniform(\"bayes_alpha_2\", 1e-8, 1e-4),\n",
    "            \"lambda_1\": hp.uniform(\"bayes_lambda_1\", 1e-8, 1e-4),\n",
    "            \"lambda_2\": hp.uniform(\"bayes_lambda_2\", 1e-8, 1e-4),\n",
    "        },\n",
    "        {\n",
    "            \"type\": \"ElasticNet\",\n",
    "            \"alpha\": hp.uniform(\"elastic_alpha\", 0.5, 2),\n",
    "            \"l1_ratio\": hp.uniform(\"elastic_l1\", 0, 1)\n",
    "        },\n",
    "        {\n",
    "            \"type\": \"SGDRegressor\",\n",
    "            \"alpha\": hp.uniform(\"sgd_alpha\", 0.00001, 0.001),\n",
    "            \"l1_ratio\": hp.uniform(\"sgd_l1\", 0, 1)\n",
    "        },\n",
    "        {\n",
    "            \"type\": \"MLPRegressor\",\n",
    "            \"hidden_layer_sizes\": hp.choice(\"mlp_layers_size\", [100, 200, 300]),\n",
    "            'alpha':hp.lognormal('mlp_alpha', mu=np.log(1e-4), sigma=1),\n",
    "            'solver':hp.choice('mlp_solver', ['lbfgs', 'sgd', 'adam'])\n",
    "        }\n",
    "    ]),\n",
    "    \"drop_feature_0\": hp.uniformint(\"drop_feature_0\", 0, X.shape[1]-1),\n",
    "    \"drop_feature_1\": hp.uniformint(\"drop_feature_1\", 0, X.shape[1]-1),\n",
    "    \"drop_feature_2\": hp.uniformint(\"drop_feature_2\", 0, X.shape[1]-1),\n",
    "}\n",
    "\n",
    "best2 = fmin(objective, space2, algo = tpe.suggest, max_evals=10000)\n",
    "#hyperopt.pyll.stochastic.sample(space)\n",
    "\n",
    "(space_eval(space2, best2))"
   ]
  },
  {
   "cell_type": "markdown",
   "metadata": {
    "pycharm": {
     "name": "#%%\n"
    }
   },
   "source": [
    "**Third experiment:**"
   ]
  },
  {
   "cell_type": "code",
   "execution_count": 260,
   "metadata": {
    "pycharm": {
     "name": "#%%\n"
    }
   },
   "outputs": [
    {
     "name": "stdout",
     "output_type": "stream",
     "text": [
      "100%|██████████| 1000/1000 [03:14<00:00,  5.15trial/s, best loss: 20.543172298345088]\n"
     ]
    },
    {
     "data": {
      "text/plain": [
       "{'drop_feature_0': 34,\n",
       " 'drop_feature_1': 12,\n",
       " 'drop_feature_2': 19,\n",
       " 'drop_feature_3': 9,\n",
       " 'drop_feature_4': 7,\n",
       " 'drop_feature_5': 9,\n",
       " 'model': {'alpha_1': 0.07113899442241944,\n",
       "  'alpha_2': 0.027808833733416437,\n",
       "  'lambda_1': 4.3632812506737284e-05,\n",
       "  'lambda_2': 0.08582921220593691,\n",
       "  'n_iter': 774,\n",
       "  'type': 'BayesianRidge'}}"
      ]
     },
     "execution_count": 260,
     "metadata": {},
     "output_type": "execute_result"
    }
   ],
   "source": [
    "space3 = {\n",
    "    \"model\": hp.choice(\"model\", [\n",
    "        {\n",
    "            \"type\": \"BayesianRidge\",\n",
    "            \"n_iter\": hp.uniformint(\"bayes_n_iter\", 100, 900),\n",
    "            \"alpha_1\": hp.uniform(\"bayes_alpha_1\", 1e-10, 1e-1),\n",
    "            \"alpha_2\": hp.uniform(\"bayes_alpha_2\", 1e-10, 1e-1),\n",
    "            \"lambda_1\": hp.uniform(\"bayes_lambda_1\", 1e-10, 1e-1),\n",
    "            \"lambda_2\": hp.uniform(\"bayes_lambda_2\", 1e-10, 1e-1),\n",
    "        },\n",
    "        {\n",
    "            \"type\": \"ElasticNet\",\n",
    "            \"alpha\": hp.uniform(\"elastic_alpha\", 0.1, 4),\n",
    "            \"l1_ratio\": hp.uniform(\"elastic_l1\", 0, 1)\n",
    "        },\n",
    "        {\n",
    "            \"type\": \"SGDRegressor\",\n",
    "            \"alpha\": hp.uniform(\"sgd_alpha\", 0.000001, 0.1),\n",
    "            \"l1_ratio\": hp.uniform(\"sgd_l1\", 0, 1)\n",
    "        },\n",
    "        {\n",
    "            \"type\": \"MLPRegressor\",\n",
    "            \"hidden_layer_sizes\": hp.choice(\"mlp_layers_size\", [100, 200, 300, 500]),\n",
    "            'alpha':hp.uniform('mlp_alpha', 0.000001, 0.1),\n",
    "            'solver':hp.choice('mlp_solver', ['lbfgs', 'sgd', 'adam'])\n",
    "        }\n",
    "    ]),\n",
    "    \"drop_feature_0\": hp.uniformint(\"drop_feature_0\", 0, X.shape[1]-1),\n",
    "    \"drop_feature_1\": hp.uniformint(\"drop_feature_1\", 0, X.shape[1]-1),\n",
    "    \"drop_feature_2\": hp.uniformint(\"drop_feature_2\", 0, X.shape[1]-1),\n",
    "    \"drop_feature_3\": hp.uniformint(\"drop_feature_3\", 0, X.shape[1]-1),\n",
    "    \"drop_feature_4\": hp.uniformint(\"drop_feature_4\", 0, X.shape[1]-1),\n",
    "    \"drop_feature_5\": hp.uniformint(\"drop_feature_5\", 0, X.shape[1]-1),\n",
    "}\n",
    "\n",
    "best3 = fmin(objective, space3, algo = tpe.suggest, max_evals=1000)\n",
    "\n",
    "\n",
    "(space_eval(space3, best3))"
   ]
  },
  {
   "cell_type": "markdown",
   "metadata": {},
   "source": [
    "We see that best model was achieved in trial 6, after 03:14 minutes, and its **RMSE was 20.54317**."
   ]
  },
  {
   "cell_type": "markdown",
   "metadata": {},
   "source": [
    "## Statistical test:"
   ]
  },
  {
   "cell_type": "code",
   "execution_count": 266,
   "metadata": {
    "pycharm": {
     "name": "#%%\n"
    }
   },
   "outputs": [
    {
     "data": {
      "text/plain": [
       "0.9998"
      ]
     },
     "execution_count": 266,
     "metadata": {},
     "output_type": "execute_result"
    }
   ],
   "source": [
    "#X = df2.drop([\"Pawpularity\",\"Id\"], axis=1)\n",
    "#X = drop_features_by_index(X, [3,9,7,19,10,5])\n",
    "#y = df2[\"Pawpularity\"]\n",
    "#\n",
    "#scores_baseline = model_selection.cross_val_score(linear_model.BayesianRidge(), X, y, scoring=\"neg_root_mean_squared_error\") * -1\n",
    "#scores_best_model = model_selection.cross_val_score(linear_model.BayesianRidge(\n",
    "#    alpha_1=0.06748333082329638,\n",
    "#    alpha_2=0.07190365480503146,\n",
    "#    lambda_1=4.960510739533382e-05,\n",
    "#    lambda_2=0.05681786469111417,\n",
    "#    n_iter=827,\n",
    "#), X, y, scoring=\"neg_root_mean_squared_error\") * -1\n",
    "#\n",
    "#\n",
    "#t,p = ttest_ind(\n",
    "#    a = scores_baseline,\n",
    "#    b = scores_best_model\n",
    "#)\n",
    "#\n",
    "#np.round(p, 4)"
   ]
  },
  {
   "cell_type": "code",
   "execution_count": 30,
   "metadata": {},
   "outputs": [
    {
     "name": "stdout",
     "output_type": "stream",
     "text": [
      "Results in cross-validation:\n",
      "\n",
      "1) Baseline model:\n",
      "RMSEs: [20.69268855 20.77399254 20.83894278 20.0912567  20.34548248]\n",
      "Avg. RMSE: 20.548472607914363\n",
      "\n",
      "2) Best model built after hyperparameter tuning:\n",
      "RMSEs: [20.69270067 20.77398017 20.83837041 20.09123732 20.34541697]\n",
      "Avg. RMSE: 20.548341106591756\n"
     ]
    }
   ],
   "source": [
    "X = df2.drop([\"Pawpularity\",\"Id\"], axis=1)\n",
    "X = drop_features_by_index(X, [34, 12, 19, 9, 7])\n",
    "y = df2[\"Pawpularity\"]\n",
    "\n",
    "scores_baseline = model_selection.cross_val_score(linear_model.BayesianRidge(), X, y, scoring=\"neg_root_mean_squared_error\") * -1\n",
    "\n",
    "scores_best_model = model_selection.cross_val_score(linear_model.BayesianRidge(\n",
    "    alpha_1=0.07114,\n",
    "    alpha_2=0.02781,\n",
    "    lambda_1=4.36328e-05,\n",
    "    lambda_2=0.085829,\n",
    "    n_iter=774,\n",
    "), X, y, scoring=\"neg_root_mean_squared_error\") * -1\n",
    "\n",
    "\n",
    "t,p = ttest_ind(\n",
    "    a = scores_baseline,\n",
    "    b = scores_best_model\n",
    ")\n",
    "\n",
    "print('Results in cross-validation:')\n",
    "print('\\n1) Baseline model:')\n",
    "print('RMSEs:', scores_baseline)\n",
    "print('Avg. RMSE:', np.mean(scores_baseline))\n",
    "print('\\n2) Best model built after hyperparameter tuning:')\n",
    "print('RMSEs:', scores_best_model)\n",
    "print('Avg. RMSE:', np.mean(scores_best_model))"
   ]
  },
  {
   "cell_type": "code",
   "execution_count": 31,
   "metadata": {},
   "outputs": [
    {
     "name": "stdout",
     "output_type": "stream",
     "text": [
      "STATISTICAL TEST:\n",
      "test statistic: 0.00065\n",
      "p-value: 0.9995\n"
     ]
    }
   ],
   "source": [
    "print('STATISTICAL TEST:')\n",
    "print('test statistic:', np.round(t, 5))\n",
    "print('p-value:', np.round(p, 5))"
   ]
  },
  {
   "cell_type": "markdown",
   "metadata": {},
   "source": [
    "The very large p-value shows that difference between results (cross-validation RMSEs) of the baseline model and of the best model built after hypermarameter tuning with HyperOpt was not statistically significant. "
   ]
  },
  {
   "cell_type": "markdown",
   "metadata": {},
   "source": [
    "## Second set of experiments "
   ]
  },
  {
   "cell_type": "markdown",
   "metadata": {},
   "source": [
    "In this experiment, we try to define the feature space better, and also add more models. Here, will also use the trials object to later extract the exact time when baseline was surpassed. Conttrary to previous experiments, we no longer use feature selection, beacuse we now have many more models and feature selection takes takes extra time. Also, actually four of the added models already implement feature selection on their own (they have respective hyperparameter 'max_features'). \n",
    "\n",
    "We choose number of iterations to be 1300, which corresponds to 100 iterations per model on average (since we are now considering 13 models)."
   ]
  },
  {
   "cell_type": "code",
   "execution_count": 55,
   "metadata": {},
   "outputs": [],
   "source": [
    "from sklearn.linear_model import LinearRegression\n",
    "from sklearn.linear_model import Ridge #\n",
    "from sklearn.linear_model import Lasso #\n",
    "from sklearn.cross_decomposition import PLSRegression #\n",
    "from sklearn.ensemble import GradientBoostingRegressor #\n",
    "from sklearn.ensemble import BaggingRegressor #\n",
    "from sklearn.ensemble import AdaBoostRegressor #\n",
    "from sklearn.tree import DecisionTreeRegressor #\n",
    "from sklearn.linear_model import ElasticNet #\n",
    "from sklearn.linear_model import SGDRegressor #\n",
    "from sklearn.ensemble import RandomForestRegressor\n",
    "from sklearn.neighbors import KNeighborsRegressor\n",
    "from sklearn.svm import SVR\n",
    "from sklearn.neighbors import RadiusNeighborsRegressor"
   ]
  },
  {
   "cell_type": "code",
   "execution_count": 32,
   "metadata": {},
   "outputs": [],
   "source": [
    "# Features and labels:\n",
    "y = df2['Pawpularity']\n",
    "X = df2.drop(columns = ['Pawpularity', 'Id'])  "
   ]
  },
  {
   "cell_type": "markdown",
   "metadata": {},
   "source": [
    "**Objective function:**"
   ]
  },
  {
   "cell_type": "code",
   "execution_count": 61,
   "metadata": {},
   "outputs": [],
   "source": [
    "def objective(args):\n",
    "\n",
    "    global df2\n",
    "\n",
    "    X = df2.drop([\"Pawpularity\",\"Id\"], axis=1)\n",
    "    y = df2[\"Pawpularity\"]\n",
    "\n",
    "    model_def = args[\"model\"]\n",
    "\n",
    "    if args[\"model\"][\"type\"] == \"ElasticNet\":\n",
    "        model = ElasticNet(\n",
    "            alpha=model_def[\"alpha\"],\n",
    "            l1_ratio=model_def[\"l1_ratio\"],\n",
    "            tol=model_def[\"tol\"]\n",
    "        )\n",
    "\n",
    "    if args[\"model\"][\"type\"] == \"SGDRegressor\":\n",
    "        model = SGDRegressor(\n",
    "            alpha=model_def[\"alpha\"],\n",
    "            l1_ratio=model_def[\"l1_ratio\"],\n",
    "            penalty=model_def[\"penalty\"]\n",
    "        )  \n",
    "        \n",
    "    if args[\"model\"][\"type\"] == \"AdaBoostRegressor\":\n",
    "        model = AdaBoostRegressor(\n",
    "            n_estimators=model_def[\"n_estimators\"],\n",
    "            learning_rate=model_def[\"learning_rate\"]\n",
    "        )\n",
    "        \n",
    "    if args[\"model\"][\"type\"] == \"DecisionTreeRegressor\":\n",
    "        model = DecisionTreeRegressor(\n",
    "            max_depth=model_def[\"max_depth\"],\n",
    "            min_samples_split=model_def[\"min_samples_split\"],\n",
    "            max_features=model_def[\"max_features\"],\n",
    "            ccp_alpha=model_def[\"ccp_alpha\"]\n",
    "        )\n",
    "\n",
    "    if args[\"model\"][\"type\"] == \"BaggingRegressor\":\n",
    "        model = BaggingRegressor(\n",
    "            n_estimators=model_def[\"n_estimators\"],\n",
    "            max_samples=model_def[\"max_samples\"],\n",
    "            max_features=model_def[\"max_features\"]\n",
    "        )\n",
    "        \n",
    "    if args[\"model\"][\"type\"] == \"GradientBoostingRegressor\":\n",
    "        model = GradientBoostingRegressor(\n",
    "            learning_rate=model_def[\"learning_rate\"],\n",
    "            n_estimators=model_def[\"n_estimators\"],\n",
    "            subsample=model_def[\"subsample\"],\n",
    "            min_samples_split=model_def[\"min_samples_split\"],\n",
    "            max_depth=model_def[\"max_depth\"],\n",
    "            max_features=model_def[\"max_features\"],\n",
    "            alpha=model_def[\"alpha\"]\n",
    "        )        \n",
    "        \n",
    "    if args[\"model\"][\"type\"] == \"PLSRegression\":\n",
    "        model = PLSRegression(\n",
    "            n_components=model_def[\"n_components\"],\n",
    "            scale=model_def[\"scale\"],\n",
    "            tol=model_def[\"tol\"]\n",
    "        )\n",
    "\n",
    "    if args[\"model\"][\"type\"] == \"Lasso\":\n",
    "        model = Lasso(\n",
    "            alpha=model_def[\"alpha\"],\n",
    "            tol=model_def[\"tol\"],\n",
    "            positive=model_def[\"positive\"]\n",
    "        )        \n",
    "\n",
    "    if args[\"model\"][\"type\"] == \"Ridge\":\n",
    "        model = Ridge(\n",
    "            alpha=model_def[\"alpha\"],\n",
    "            solver=model_def[\"solver\"]\n",
    "        )\n",
    "\n",
    "    if args[\"model\"][\"type\"] == \"RadiusNeighborsRegressor\":\n",
    "        model = RadiusNeighborsRegressor(\n",
    "            radius=model_def[\"radius\"],\n",
    "            weights=model_def[\"weights\"]\n",
    "        )\n",
    "\n",
    "    if args[\"model\"][\"type\"] == \"KNeighborsRegressor\":\n",
    "        model = KNeighborsRegressor(\n",
    "            n_neighbors=model_def[\"n_neighbors\"]\n",
    "        )\n",
    "\n",
    "    if args[\"model\"][\"type\"] == \"SVR\":\n",
    "        model = SVR(\n",
    "            C=model_def[\"C\"],\n",
    "            kernel=model_def[\"kernel\"],\n",
    "            gamma=model_def[\"gamma\"],\n",
    "            coef0=model_def[\"coef0\"]\n",
    "        )        \n",
    "\n",
    "    if args[\"model\"][\"type\"] == \"RandomForestRegressor\":\n",
    "        model = RandomForestRegressor(\n",
    "            max_depth=model_def[\"max_depth\"],\n",
    "            min_samples_leaf=model_def[\"min_samples_leaf\"],\n",
    "            n_estimators=model_def[\"n_estimators\"],\n",
    "            max_features=model_def[\"max_features\"],\n",
    "            bootstrap=model_def[\"bootstrap\"],\n",
    "            ccp_alpha=model_def[\"ccp_alpha\"]\n",
    "        )\n",
    "        \n",
    "    scores = model_selection.cross_val_score(model, X, y, scoring=\"neg_root_mean_squared_error\") * -1\n",
    "    return np.mean(scores)"
   ]
  },
  {
   "cell_type": "markdown",
   "metadata": {},
   "source": [
    "**Feature space:**"
   ]
  },
  {
   "cell_type": "code",
   "execution_count": 62,
   "metadata": {},
   "outputs": [],
   "source": [
    "space4 = {\n",
    "    'model': hp.choice('model', [\n",
    "        {\n",
    "            'type': 'ElasticNet',\n",
    "            'alpha': hp.uniform('elastic_alpha', 0.002, 0.01),\n",
    "            'l1_ratio':  hp.uniform('elastic_l1_ratio', 0.0001, 1.0),\n",
    "            'tol': hp.uniform('elastic_tol', 0.01, 0.1)\n",
    "        },\n",
    "        {\n",
    "            'type': 'SGDRegressor',\n",
    "            'penalty': hp.choice('sgd_enalty', ['l1', 'l2', 'elasticnet']),\n",
    "            'alpha': hp.uniform('sgd_alpha', 0.005, 0.04),\n",
    "            'l1_ratio': hp.uniform('sgd_l1_ratio', 0.001, 0.6)\n",
    "        },\n",
    "        {\n",
    "            'type': 'AdaBoostRegressor',\n",
    "            'n_estimators': hp.choice('ada_n_estimators', [100, 150, 200]),\n",
    "            'learning_rate': hp.uniform('ada_learning_rate', 0.7, 1.5)\n",
    "        },\n",
    "        {\n",
    "            'type': 'DecisionTreeRegressor',\n",
    "            'max_depth': hp.uniformint('dt_max_depth', 2, 7),\n",
    "            'min_samples_split': hp.uniformint('dt_min_samples_split', 3, 20),\n",
    "            'max_features': hp.uniformint('dt_max_features', 5, 24),\n",
    "            'ccp_alpha': hp.uniform('dt_ccp_alpha', 0.0, 0.2)\n",
    "        },        \n",
    "        {\n",
    "            'type': 'BaggingRegressor',\n",
    "            'n_estimators': hp.uniformint('bag_n_estimators', 45, 75),\n",
    "            'max_samples': hp.uniform('bag_max_samples', 0.1, 0.4),\n",
    "            'max_features': hp.uniformint('bag_max_features', 5, 24)\n",
    "        },\n",
    "        {\n",
    "            'type': 'GradientBoostingRegressor',\n",
    "            'learning_rate': hp.uniform('grad_learning_rate', 0.005, 0.07), \n",
    "            'n_estimators': hp.uniformint('grad_n_estimators', 60, 150),\n",
    "            'subsample': hp.uniform('grad_subsample', 0.5, 1.0),\n",
    "            'min_samples_split': hp.uniformint('grad_min_samples_split', 5, 50),\n",
    "            'max_depth': hp.uniformint('grad_max_depth', 2, 7),\n",
    "            'max_features': hp.pchoice('grad_max_features', \n",
    "                                      [(0.15, 'auto'), \n",
    "                                        (0.85, hp.uniformint('grad_max_features_int', 5, 20))]),\n",
    "            'alpha': hp.uniform('grad_alpha', 0.3, 0.7)\n",
    "        }, \n",
    "        {\n",
    "            'type': 'PLSRegression',\n",
    "            'n_components': hp.uniformint('pls_n_components', 1, 25),\n",
    "            'scale': hp.choice('pls_positive', [True, False]),\n",
    "            'tol': hp.uniform('pls_alpha', 1e-06, 1e-02)\n",
    "        },\n",
    "        {\n",
    "            'type': 'Lasso',\n",
    "            'alpha': hp.uniform('lasso_alpha', 0.005, 0.05),\n",
    "            'tol': hp.uniform('lasso_tol', 0.05, 0.7),\n",
    "            'positive':hp.choice('lasso_positive', [True, False]) \n",
    "        },        \n",
    "        {\n",
    "            'type': 'Ridge',\n",
    "            'alpha': hp.uniform('ridge_alpha', 0.8, 35.0),\n",
    "            'solver': hp.choice('ridge_solver', ['auto', 'svd', 'lsqr', 'sag', 'cholesky'])\n",
    "        },\n",
    "        {\n",
    "            'type': 'RadiusNeighborsRegressor',\n",
    "            'radius': hp.uniform('radius_radius', 0.4, 1.2), # default 1.0\n",
    "            'weights': hp.choice('radius_weights', ['uniform', 'distance']) #\n",
    "        },   \n",
    "        {\n",
    "            'type': 'KNeighborsRegressor',\n",
    "            'n_neighbors': hp.choice('knn_n_neighbors', [5, 7, 10, 20, 50, 70, 100, 150, 300, 500, 700, 1000, 1250, 1500]), #\n",
    "        },\n",
    "        {\n",
    "            'type': 'SVR',\n",
    "            'C': hp.choice('svr_C:', [0.1, 0.5, 1, 5, 10, 20, 50]),\n",
    "            'kernel': hp.choice('svr_kernel', ['poly', 'rbf', 'linear']), \n",
    "            'gamma': hp.uniform('svr_gamma', 0.04, 0.1),\n",
    "            'coef0': hp.choice('svr_coef0', [0.0, 0.5, 1.0])  \n",
    "        },        \n",
    "        {\n",
    "            'type': 'RandomForestRegressor',\n",
    "            'max_depth': hp.choice('rf_max_depth', range(2, 7)),\n",
    "            'min_samples_leaf': hp.uniformint('rf_min_samples_leaf', 3, 10),\n",
    "            'n_estimators': hp.choice('rf_n_estimators', [30, 50, 75, 100, 200]),\n",
    "            'max_features': hp.choice('rf_max_features', ['auto', 'log2', 'sqrt']),\n",
    "            'bootstrap': hp.choice('rf_bootstrap', [True, False]),\n",
    "            'ccp_alpha': hp.uniform('rf_ccp_alpha', 0.0, 0.05)\n",
    "        }     \n",
    "    ])\n",
    "}"
   ]
  },
  {
   "cell_type": "code",
   "execution_count": 63,
   "metadata": {},
   "outputs": [
    {
     "name": "stdout",
     "output_type": "stream",
     "text": [
      "100%|██████████████████████████████████████████| 1300/1300 [3:02:32<00:00,  8.43s/trial, best loss: 20.524968551544585]\n"
     ]
    },
    {
     "data": {
      "text/plain": [
       "{'model': {'bootstrap': True,\n",
       "  'ccp_alpha': 0.0340040644312367,\n",
       "  'max_depth': 5,\n",
       "  'max_features': 'auto',\n",
       "  'min_samples_leaf': 5,\n",
       "  'n_estimators': 75,\n",
       "  'type': 'RandomForestRegressor'}}"
      ]
     },
     "execution_count": 63,
     "metadata": {},
     "output_type": "execute_result"
    }
   ],
   "source": [
    "trials = Trials()\n",
    "best4 = fmin(objective, space4, algo = tpe.suggest, max_evals=1300, trials=trials)\n",
    "\n",
    "(space_eval(space4, best4))"
   ]
  },
  {
   "cell_type": "code",
   "execution_count": 66,
   "metadata": {},
   "outputs": [],
   "source": [
    "# Save trials object for further analysis:\n",
    "with open('trials_tabular.plk','wb') as fout:  \n",
    "    plk.dump([trials], fout)"
   ]
  },
  {
   "cell_type": "code",
   "execution_count": null,
   "metadata": {},
   "outputs": [],
   "source": [
    "## Load trials object:\n",
    "#with open('trials_tabular.plk','rb') as fin:\n",
    "#    loaded = plk.load(fin)\n",
    "#    trials=loaded[0]\n",
    "#    del loaded"
   ]
  },
  {
   "cell_type": "markdown",
   "metadata": {},
   "source": [
    "## Least time budget that outperformed the baseline"
   ]
  },
  {
   "cell_type": "code",
   "execution_count": 130,
   "metadata": {},
   "outputs": [
    {
     "name": "stdout",
     "output_type": "stream",
     "text": [
      "Baseline RMSE: 20.548472607914363\n",
      "\n",
      "Model built with hyperopt first exceeded baseline in iteration: 22\n",
      "Best (smallest) RMSE was 20.524968551544585 , which was achieved in iteration: 591\n"
     ]
    }
   ],
   "source": [
    "baseline_rmse = np.mean(scores_baseline)\n",
    "print('Baseline RMSE:', baseline_rmse)\n",
    "\n",
    "trials_ = trials.trials \n",
    "trials_losses = trials.losses()\n",
    "iters = [x for x in range(len(trials_losses))]\n",
    "df_losses = pd.DataFrame(data = [trials_losses, iters]).T\n",
    "df_losses.columns=['RMSE', 'Iterations']\n",
    "# df_losses.index = iters\n",
    "df_losses['Iterations'] = df_losses['Iterations'].astype('int64')\n",
    "\n",
    "# Iteration where hyperopt first exceeded baseline:\n",
    "for least_budget, loss in enumerate(trials_losses): \n",
    "    if loss< baseline_rmse:\n",
    "        break\n",
    "\n",
    "# Best iteration:\n",
    "best_iter = np.argmin(trials_losses)\n",
    "best_rmse = np.min(trials_losses)\n",
    "        \n",
    "print('\\nModel built with hyperopt first exceeded baseline in iteration:', least_budget)\n",
    "print('Best (smallest) RMSE was', best_rmse,  ', which was achieved in iteration:', best_iter)"
   ]
  },
  {
   "cell_type": "markdown",
   "metadata": {},
   "source": [
    "**Evolutin of RMSE in iterations:**"
   ]
  },
  {
   "cell_type": "code",
   "execution_count": 144,
   "metadata": {},
   "outputs": [
    {
     "data": {
      "image/png": "[encoded data removed]",
      "text/plain": [
       "<Figure size 1152x432 with 1 Axes>"
      ]
     },
     "metadata": {
      "needs_background": "light"
     },
     "output_type": "display_data"
    }
   ],
   "source": [
    "plt.rcParams['figure.figsize'] = (16.0, 6.0)\n",
    "sns.lineplot(x = 'Iterations', y = 'RMSE', data=df_losses) \n",
    "plt.hlines(y = baseline_rmse, xmin = 0, xmax=len(trials_losses)-1, colors=['red'], label='Baseline RMSE')\n",
    "# plt.annotate()\n",
    "plt.plot([least_budget], [baseline_rmse], marker='o', markersize=12, color=\"red\") \n",
    "plt.plot([best_iter], [best_rmse], marker='o', markersize=12, color=\"#41ab5d\")\n",
    "plt.legend(labels=['RMSE', 'Baseline RMSE'], facecolor='white', loc='upper right')\n",
    "plt.xlabel('Iterations')\n",
    "plt.ylabel('RMSE')\n",
    "plt.title(\"Evolution of RMSE in HyperOpt iterations\")\n",
    "#plt.ylim(20.52, 20.7)\n",
    "plt.xlim(0, 1300)\n",
    "plt.show()"
   ]
  },
  {
   "cell_type": "markdown",
   "metadata": {},
   "source": [
    "**Same plot, after trimming higher (worse) RMSE values to better see comparison to baseline:**"
   ]
  },
  {
   "cell_type": "code",
   "execution_count": 145,
   "metadata": {},
   "outputs": [
    {
     "data": {
      "image/png": "[encoded data removed]",
      "text/plain": [
       "<Figure size 1152x432 with 1 Axes>"
      ]
     },
     "metadata": {
      "needs_background": "light"
     },
     "output_type": "display_data"
    }
   ],
   "source": [
    "plt.rcParams['figure.figsize'] = (16.0, 6.0)\n",
    "\n",
    "sns.lineplot(x = 'Iterations', y = 'RMSE', data=df_losses) \n",
    "plt.hlines(y = baseline_rmse, xmin = 0, xmax=len(trials_losses)-1, colors=['red'], label='Baseline RMSE')\n",
    "# plt.annotate()\n",
    "plt.plot([least_budget], [baseline_rmse], marker='o', markersize=12, color=\"red\")\n",
    "plt.plot([best_iter], [best_rmse], marker='o', markersize=12, color=\"#41ab5d\")\n",
    "plt.legend(labels=['RMSE', 'Baseline RMSE'], facecolor='white', loc='upper right')\n",
    "plt.xlabel('Iterations')\n",
    "plt.ylabel('RMSE')\n",
    "plt.title(\"Evolution of RMSE in HyperOpt iterations\")\n",
    "plt.annotate(text = 'First outperformed baseline', xy=(35, 20.546), xytext=(115, 20.53), \n",
    "             color = 'red', fontsize=18, weight='bold', arrowprops={'width': 2, 'color': 'red', 'headwidth': 15})\n",
    "plt.annotate(text = 'in iteration 22', xy=(125, 20.524), \n",
    "             color = 'red', fontsize=18, weight='bold')\n",
    "plt.annotate(text = 'best RMSE=20.525', xy=(610, 20.525), \n",
    "             color = '#41ab5d', fontsize=18, weight='bold')\n",
    "plt.ylim(20.52, 20.6)\n",
    "plt.xlim(0, 1300)\n",
    "plt.show()\n"
   ]
  },
  {
   "cell_type": "markdown",
   "metadata": {},
   "source": [
    "## Statistical test:"
   ]
  },
  {
   "cell_type": "code",
   "execution_count": 148,
   "metadata": {},
   "outputs": [
    {
     "name": "stdout",
     "output_type": "stream",
     "text": [
      "Results in cross-validation:\n",
      "\n",
      "1) Baseline model:\n",
      "RMSEs: [20.69948656 20.78412876 20.87568089 20.09458321 20.3757668 ]\n",
      "Avg. RMSE: 20.565929244930903\n",
      "\n",
      "2) Best model built after hyperparameter tuning:\n",
      "RMSEs: [20.65525271 20.73145738 20.8752186  20.06733897 20.3611398 ]\n",
      "Avg. RMSE: 20.538081492408907\n"
     ]
    }
   ],
   "source": [
    "scores_baseline = model_selection.cross_val_score(linear_model.BayesianRidge(), X, y, scoring=\"neg_root_mean_squared_error\") * -1\n",
    "\n",
    "scores_best_model = model_selection.cross_val_score(RandomForestRegressor(\n",
    "    bootstrap= True,\n",
    "    ccp_alpha= 0.0340040644312367,\n",
    "    max_depth= 5,\n",
    "    max_features= 'auto',\n",
    "    min_samples_leaf= 5,\n",
    "    n_estimators= 75,\n",
    "), X, y, scoring=\"neg_root_mean_squared_error\") * -1\n",
    "\n",
    "\n",
    "t,p = ttest_ind(\n",
    "    a = scores_baseline,\n",
    "    b = scores_best_model\n",
    ")\n",
    "\n",
    "print('Results in cross-validation:')\n",
    "print('\\n1) Baseline model:')\n",
    "print('RMSEs:', scores_baseline)\n",
    "print('Avg. RMSE:', np.mean(scores_baseline))\n",
    "print('\\n2) Best model built after hyperparameter tuning:')\n",
    "print('RMSEs:', scores_best_model)\n",
    "print('Avg. RMSE:', np.mean(scores_best_model))"
   ]
  },
  {
   "cell_type": "code",
   "execution_count": 149,
   "metadata": {},
   "outputs": [
    {
     "name": "stdout",
     "output_type": "stream",
     "text": [
      "STATISTICAL TEST:\n",
      "test statistic: 0.13609\n",
      "p-value: 0.89511\n"
     ]
    }
   ],
   "source": [
    "print('STATISTICAL TEST:')\n",
    "print('test statistic:', np.round(t, 5))\n",
    "print('p-value:', np.round(p, 5))"
   ]
  },
  {
   "cell_type": "markdown",
   "metadata": {},
   "source": [
    "Although RMSE slightly improved in the second experiment, the p-value still remained very large. Therefore, we must conclude that difference between results (cross-validation RMSEs) of the baseline model and of the best model built after hypermarameter tuning with HyperOpt was not statistically significant. "
   ]
  },
  {
   "cell_type": "markdown",
   "metadata": {
    "pycharm": {
     "name": "#%% md\n"
    }
   },
   "source": []
  }
 ],
 "metadata": {
  "kernelspec": {
   "display_name": "Python 3 (ipykernel)",
   "language": "python",
   "name": "python3"
  },
  "language_info": {
   "codemirror_mode": {
    "name": "ipython",
    "version": 3
   },
   "file_extension": ".py",
   "mimetype": "text/x-python",
   "name": "python",
   "nbconvert_exporter": "python",
   "pygments_lexer": "ipython3",
   "version": "3.8.10"
  }
 },
 "nbformat": 4,
 "nbformat_minor": 1
}
