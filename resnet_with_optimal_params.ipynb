{
 "cells": [
  {
   "cell_type": "markdown",
   "metadata": {},
   "source": [
    "# Training best resnet based on hyperopt results"
   ]
  },
  {
   "cell_type": "code",
   "execution_count": 1,
   "metadata": {},
   "outputs": [],
   "source": [
    "from urllib.request import urlopen\n",
    "from fastai.vision import *\n",
    "from fastai.metrics import error_rate\n",
    "from PIL import Image\n",
    "#from google.colab import drive\n",
    "from os import listdir\n",
    "import numpy as np \n",
    "import cv2\n",
    "from matplotlib import image\n",
    "from matplotlib import pyplot\n",
    "import numpy as np\n",
    "import warnings\n",
    "import pandas as pd\n",
    "import os \n",
    "import torch\n",
    "from fastai.vision.data import *\n",
    "import fastai\n",
    "from pathlib import Path\n",
    "from shutil import copyfile\n",
    "import random\n",
    "import shutil\n",
    "from PIL import Image\n",
    "from datetime import datetime\n",
    "from hyperopt import hp\n",
    "from hyperopt import fmin, tpe, space_eval\n",
    "from hyperopt import  Trials\n",
    "import torch.nn as nn\n",
    "from datetime import datetime\n",
    "from time import mktime\n",
    "import time\n",
    "from sklearn.model_selection import RepeatedKFold"
   ]
  },
  {
   "cell_type": "code",
   "execution_count": 2,
   "metadata": {},
   "outputs": [],
   "source": [
    "def get_float_label(x):\n",
    "    y = str(x)[(len(path_str) + 1):(len(path_str) + 3)]\n",
    "    dash_search = re.search(\"/\", y)\n",
    "    if dash_search != None:\n",
    "        y = y[:dash_search.span()[0]]\n",
    "    y = float(y)\n",
    "    return y"
   ]
  },
  {
   "cell_type": "code",
   "execution_count": 3,
   "metadata": {},
   "outputs": [],
   "source": [
    "path_str = \"/media/revilo/oliver-kool-2/pawpularity_data/train_for_resnet\"\n",
    "path = Path(path_str)\n",
    "\n",
    "warnings.filterwarnings('ignore')\n",
    "\n",
    "class L1LossFlat(nn.L1Loss):\n",
    "#“Mean Absolute Error Loss”\n",
    "  def forward(self, input:Tensor, target:Tensor) -> Rank0Tensor:\n",
    "    return super().forward(input.view(-1), target.view(-1))\n"
   ]
  },
  {
   "cell_type": "code",
   "execution_count": 4,
   "metadata": {},
   "outputs": [],
   "source": [
    "(label,\n",
    "     size,\n",
    "    weight_dec, \n",
    "    div_factor,\n",
    "    mom1, \n",
    "    mom2, \n",
    "    max_rotate,\n",
    "    max_zoom,\n",
    "    p_affine,\n",
    "    max_lighting, \n",
    "    max_warp,\n",
    "    loss_fn,\n",
    "    model) = ('MSE loss', \n",
    " 224, \n",
    " 0.3806114553011142, \n",
    " 1.6043067786085103, \n",
    " 0.7412407050621035,\n",
    " 0.9707736130395528,\n",
    " 208.78583621669668,\n",
    " 2.4716600773278135,\n",
    " 0.5694889423615632,\n",
    " 0.2391272797023367,\n",
    " 0.10510357270731724,\n",
    " MSELossFlat,\n",
    " models.resnet34\n",
    ")\n",
    " "
   ]
  },
  {
   "cell_type": "markdown",
   "metadata": {},
   "source": [
    "## Train with the best parameters on 10 epochs and random split"
   ]
  },
  {
   "cell_type": "code",
   "execution_count": 5,
   "metadata": {},
   "outputs": [],
   "source": [
    "current_dir = ! pwd\n",
    "current_dir = current_dir[0]"
   ]
  },
  {
   "cell_type": "code",
   "execution_count": 6,
   "metadata": {},
   "outputs": [],
   "source": [
    "def rmse_basic(x, y):\n",
    "    return np.sqrt(np.mean((x-y)**2))"
   ]
  },
  {
   "cell_type": "code",
   "execution_count": 7,
   "metadata": {},
   "outputs": [
    {
     "data": {
      "text/html": [
       "<table border=\"1\" class=\"dataframe\">\n",
       "  <thead>\n",
       "    <tr style=\"text-align: left;\">\n",
       "      <th>epoch</th>\n",
       "      <th>train_loss</th>\n",
       "      <th>valid_loss</th>\n",
       "      <th>time</th>\n",
       "    </tr>\n",
       "  </thead>\n",
       "  <tbody>\n",
       "    <tr>\n",
       "      <td>0</td>\n",
       "      <td>958.944275</td>\n",
       "      <td>523.152649</td>\n",
       "      <td>00:58</td>\n",
       "    </tr>\n",
       "    <tr>\n",
       "      <td>1</td>\n",
       "      <td>412.856232</td>\n",
       "      <td>328.937836</td>\n",
       "      <td>00:57</td>\n",
       "    </tr>\n",
       "    <tr>\n",
       "      <td>2</td>\n",
       "      <td>342.656097</td>\n",
       "      <td>315.028931</td>\n",
       "      <td>00:57</td>\n",
       "    </tr>\n",
       "    <tr>\n",
       "      <td>3</td>\n",
       "      <td>322.771362</td>\n",
       "      <td>310.603088</td>\n",
       "      <td>00:57</td>\n",
       "    </tr>\n",
       "    <tr>\n",
       "      <td>4</td>\n",
       "      <td>314.896362</td>\n",
       "      <td>303.251160</td>\n",
       "      <td>00:57</td>\n",
       "    </tr>\n",
       "    <tr>\n",
       "      <td>5</td>\n",
       "      <td>308.620422</td>\n",
       "      <td>305.484833</td>\n",
       "      <td>00:57</td>\n",
       "    </tr>\n",
       "    <tr>\n",
       "      <td>6</td>\n",
       "      <td>307.373383</td>\n",
       "      <td>303.731934</td>\n",
       "      <td>00:57</td>\n",
       "    </tr>\n",
       "    <tr>\n",
       "      <td>7</td>\n",
       "      <td>304.175781</td>\n",
       "      <td>303.380249</td>\n",
       "      <td>00:57</td>\n",
       "    </tr>\n",
       "    <tr>\n",
       "      <td>8</td>\n",
       "      <td>296.787567</td>\n",
       "      <td>303.656372</td>\n",
       "      <td>00:57</td>\n",
       "    </tr>\n",
       "    <tr>\n",
       "      <td>9</td>\n",
       "      <td>295.756134</td>\n",
       "      <td>303.471802</td>\n",
       "      <td>00:57</td>\n",
       "    </tr>\n",
       "  </tbody>\n",
       "</table>"
      ],
      "text/plain": [
       "<IPython.core.display.HTML object>"
      ]
     },
     "metadata": {},
     "output_type": "display_data"
    },
    {
     "data": {
      "text/html": [],
      "text/plain": [
       "<IPython.core.display.HTML object>"
      ]
     },
     "metadata": {},
     "output_type": "display_data"
    },
    {
     "name": "stdout",
     "output_type": "stream",
     "text": [
      "RMSE: 17.420443\n"
     ]
    }
   ],
   "source": [
    "no_of_epochs = 10\n",
    "\n",
    "data = (ImageList.from_folder(path)\\\n",
    "    .random_split_by_pct()\\\n",
    "    .label_from_func(get_float_label, label_cls = \n",
    "       FloatList)\\\n",
    ".transform(get_transforms(do_flip=False,\n",
    "                         max_rotate = max_rotate,\n",
    "                         max_zoom = max_zoom,\n",
    "                         p_affine = p_affine,\n",
    "                         max_lighting = max_lighting,\n",
    "                         max_warp = max_warp), \n",
    "           size=size)\\\n",
    ".databunch())\n",
    "\n",
    "data.normalize(imagenet_stats) \n",
    "\n",
    "learn = cnn_learner(data, model, model_dir = Path(current_dir))\n",
    "learn.loss = loss_fn\n",
    "learn.fit_one_cycle(no_of_epochs,\n",
    "                    div_factor = div_factor,\n",
    "                    moms = (mom1, mom2),\n",
    "                    wd = weight_dec)\n",
    "\n",
    "interp = ClassificationInterpretation.from_learner(learn)\n",
    "rmse_res = rmse_basic(interp.preds.numpy().reshape(-1), \n",
    "    interp.y_true.numpy()) \n",
    "\n",
    "print(\"RMSE: \" + str(rmse_res))\n"
   ]
  },
  {
   "cell_type": "code",
   "execution_count": 8,
   "metadata": {},
   "outputs": [
    {
     "name": "stdout",
     "output_type": "stream",
     "text": [
      "RMSE: 17.420443\n"
     ]
    }
   ],
   "source": [
    "rmse_res = rmse_basic(interp.preds.numpy().reshape(-1), \n",
    "    interp.y_true.numpy()) \n",
    "\n",
    "print(\"RMSE: \" + str(rmse_res))"
   ]
  },
  {
   "cell_type": "code",
   "execution_count": 9,
   "metadata": {},
   "outputs": [],
   "source": [
    "# save model\n",
    "t1 = time.localtime()\n",
    "dt = datetime.fromtimestamp(mktime(t1))\n",
    "learn.save(f'resnet_models/{str(dt)}_{np.round(rmse_res, 2)}.pt')"
   ]
  },
  {
   "cell_type": "code",
   "execution_count": 45,
   "metadata": {},
   "outputs": [],
   "source": [
    "test_dir = \"/media/revilo/oliver-kool-2/pawpularity_data/test\"\n",
    "test_path = Path(test_dir)\n",
    "test = ImageList.from_folder(test_path)\n",
    "data.add_test(test)"
   ]
  },
  {
   "cell_type": "code",
   "execution_count": 22,
   "metadata": {},
   "outputs": [
    {
     "data": {
      "text/html": [],
      "text/plain": [
       "<IPython.core.display.HTML object>"
      ]
     },
     "metadata": {},
     "output_type": "display_data"
    }
   ],
   "source": [
    "predictions, *_ = learn.get_preds(DatasetType.Test)"
   ]
  },
  {
   "cell_type": "code",
   "execution_count": 93,
   "metadata": {},
   "outputs": [],
   "source": [
    "# write kaggle submission file\n",
    "submission_df = pd.DataFrame( index = None,\n",
    "                             data = [\n",
    "    [get_name(x) for x in data.test_dl.dataset.items],\n",
    "    predictions.numpy().flatten()]).T"
   ]
  },
  {
   "cell_type": "code",
   "execution_count": 94,
   "metadata": {},
   "outputs": [],
   "source": [
    "def get_name(x):\n",
    "    x = str(x)\n",
    "    y = x.split(\"/\")\n",
    "    y = y[len(y) - 1]\n",
    "    y = y[:(len(y) - 4)]\n",
    "    return(y)"
   ]
  },
  {
   "cell_type": "code",
   "execution_count": 95,
   "metadata": {},
   "outputs": [],
   "source": [
    "submission_df.columns = [\"Id\", \"Pawpularity\"]"
   ]
  },
  {
   "cell_type": "code",
   "execution_count": 96,
   "metadata": {},
   "outputs": [
    {
     "data": {
      "text/html": [
       "<div>\n",
       "<style scoped>\n",
       "    .dataframe tbody tr th:only-of-type {\n",
       "        vertical-align: middle;\n",
       "    }\n",
       "\n",
       "    .dataframe tbody tr th {\n",
       "        vertical-align: top;\n",
       "    }\n",
       "\n",
       "    .dataframe thead th {\n",
       "        text-align: right;\n",
       "    }\n",
       "</style>\n",
       "<table border=\"1\" class=\"dataframe\">\n",
       "  <thead>\n",
       "    <tr style=\"text-align: right;\">\n",
       "      <th></th>\n",
       "      <th>Id</th>\n",
       "      <th>Pawpularity</th>\n",
       "    </tr>\n",
       "  </thead>\n",
       "  <tbody>\n",
       "    <tr>\n",
       "      <th>0</th>\n",
       "      <td>c978013571258ed6d4637f6e8cc9d6a3</td>\n",
       "      <td>37.8735</td>\n",
       "    </tr>\n",
       "    <tr>\n",
       "      <th>1</th>\n",
       "      <td>b03f7041962238a7c9d6537e22f9b017</td>\n",
       "      <td>37.6429</td>\n",
       "    </tr>\n",
       "    <tr>\n",
       "      <th>2</th>\n",
       "      <td>e0de453c1bffc20c22b072b34b54e50f</td>\n",
       "      <td>36.8432</td>\n",
       "    </tr>\n",
       "    <tr>\n",
       "      <th>3</th>\n",
       "      <td>4e429cead1848a298432a0acad014c9d</td>\n",
       "      <td>37.5755</td>\n",
       "    </tr>\n",
       "    <tr>\n",
       "      <th>4</th>\n",
       "      <td>43a2262d7738e3d420d453815151079e</td>\n",
       "      <td>37.9716</td>\n",
       "    </tr>\n",
       "    <tr>\n",
       "      <th>5</th>\n",
       "      <td>8f49844c382931444e68dffbe20228f4</td>\n",
       "      <td>37.8716</td>\n",
       "    </tr>\n",
       "    <tr>\n",
       "      <th>6</th>\n",
       "      <td>4128bae22183829d2b5fea10effdb0c3</td>\n",
       "      <td>38.7123</td>\n",
       "    </tr>\n",
       "    <tr>\n",
       "      <th>7</th>\n",
       "      <td>80bc3ccafcc51b66303c2c263aa38486</td>\n",
       "      <td>37.9077</td>\n",
       "    </tr>\n",
       "  </tbody>\n",
       "</table>\n",
       "</div>"
      ],
      "text/plain": [
       "                                 Id Pawpularity\n",
       "0  c978013571258ed6d4637f6e8cc9d6a3     37.8735\n",
       "1  b03f7041962238a7c9d6537e22f9b017     37.6429\n",
       "2  e0de453c1bffc20c22b072b34b54e50f     36.8432\n",
       "3  4e429cead1848a298432a0acad014c9d     37.5755\n",
       "4  43a2262d7738e3d420d453815151079e     37.9716\n",
       "5  8f49844c382931444e68dffbe20228f4     37.8716\n",
       "6  4128bae22183829d2b5fea10effdb0c3     38.7123\n",
       "7  80bc3ccafcc51b66303c2c263aa38486     37.9077"
      ]
     },
     "execution_count": 96,
     "metadata": {},
     "output_type": "execute_result"
    }
   ],
   "source": [
    "submission_df"
   ]
  },
  {
   "cell_type": "code",
   "execution_count": 97,
   "metadata": {},
   "outputs": [],
   "source": [
    "submission_df.to_csv(\"submission/submission.csv\", index = None)"
   ]
  }
 ],
 "metadata": {
  "kernelspec": {
   "display_name": "Python 3",
   "language": "python",
   "name": "python3"
  },
  "language_info": {
   "codemirror_mode": {
    "name": "ipython",
    "version": 3
   },
   "file_extension": ".py",
   "mimetype": "text/x-python",
   "name": "python",
   "nbconvert_exporter": "python",
   "pygments_lexer": "ipython3",
   "version": "3.8.10"
  }
 },
 "nbformat": 4,
 "nbformat_minor": 4
}
