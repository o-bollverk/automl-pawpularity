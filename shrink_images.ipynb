{
 "cells": [
  {
   "cell_type": "code",
   "execution_count": null,
   "metadata": {},
   "outputs": [],
   "source": [
    "# shrink images\n",
    "import numpy as np\n",
    "from PIL import Image\n",
    "import os as os"
   ]
  },
  {
   "cell_type": "code",
   "execution_count": null,
   "metadata": {},
   "outputs": [],
   "source": [
    "training_images_dir = \"data/train/\"\n",
    "training_fnames = os.listdir(training_images_dir)\n",
    "\n",
    "shrinked_training_dir = \"data/train_shrinked/\"\n",
    "size = 128, 128\n",
    "\n",
    "for fname in training_fnames:\n",
    "    outfile = f'{shrinked_training_dir}{fname}'\n",
    "    #outfile = outfile[:(len(outfile) - 4)]\n",
    "    im = Image.open(f'{training_images_dir}{fname}')\n",
    "    im.thumbnail(size, Image.ANTIALIAS)\n",
    "    im.save(outfile, \"JPEG\")\n",
    "    "
   ]
  }
 ],
 "metadata": {
  "kernelspec": {
   "display_name": "Python 3",
   "language": "python",
   "name": "python3"
  },
  "language_info": {
   "codemirror_mode": {
    "name": "ipython",
    "version": 3
   },
   "file_extension": ".py",
   "mimetype": "text/x-python",
   "name": "python",
   "nbconvert_exporter": "python",
   "pygments_lexer": "ipython3",
   "version": "3.8.10"
  }
 },
 "nbformat": 4,
 "nbformat_minor": 4
}
